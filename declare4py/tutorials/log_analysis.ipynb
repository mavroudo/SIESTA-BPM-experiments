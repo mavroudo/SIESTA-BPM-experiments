{
 "cells": [
  {
   "cell_type": "markdown",
   "id": "5279e90c",
   "metadata": {},
   "source": [
    "# Simple Log Analysis with Declare4Py\n",
    "\n",
    "This tutorial explains how to perform simple analysis of logs with Declare4Py\n",
    "\n",
    "After importing the Declare4Py package and specified the path of the log, a `Declare4Py` object has to be instantiated."
   ]
  },
  {
   "cell_type": "code",
   "execution_count": null,
   "id": "e10f3035",
   "metadata": {},
   "outputs": [],
   "source": [
    "import os\n",
    "from declare4py.declare4py import Declare4Py\n",
    "\n",
    "\n",
    "log_path = os.path.join(\"..\", \"tests\", \"Sepsis Cases.xes.gz\")\n",
    "\n",
    "d4py = Declare4Py()"
   ]
  },
  {
   "cell_type": "markdown",
   "id": "f532d9fb",
   "metadata": {},
   "source": [
    "The next step is the parsing of the log with the `parse_xes_log` function. Logs can be passed both in the `.xes` or `xes.gz` formats. "
   ]
  },
  {
   "cell_type": "code",
   "execution_count": null,
   "id": "cefcfbac",
   "metadata": {},
   "outputs": [],
   "source": [
    "d4py.parse_xes_log(log_path)"
   ]
  },
  {
   "cell_type": "markdown",
   "id": "892fabfc",
   "metadata": {},
   "source": [
    "Declare4Py offers several facilities for simple log indexing and analysis"
   ]
  },
  {
   "cell_type": "code",
   "execution_count": null,
   "id": "14f7d967",
   "metadata": {},
   "outputs": [],
   "source": [
    "# Return the number of cases in the log\n",
    "print(f\"Number of cases: {d4py.get_log_length()}\")\n",
    "print(\"--------------------------------------\")\n",
    "\n",
    "# Return the ids of the cases in the log\n",
    "print(f\"Cases ids:\\n{d4py.get_trace_keys()}\")\n",
    "print(\"--------------------------------------\")\n",
    "\n",
    "# Return the names of the activities in the log\n",
    "print(f\"Activity alphabet:\\n{d4py.get_log_alphabet_activities()}\")\n",
    "print(\"--------------------------------------\")\n",
    "\n",
    "# Return the names of the resources in the log\n",
    "print(f\"Resource alphabet:\\n{d4py.get_log_alphabet_payload()}\")\n",
    "print(\"--------------------------------------\")"
   ]
  },
  {
   "cell_type": "markdown",
   "id": "8e42a7ae",
   "metadata": {},
   "source": [
    "A log is a complex data structure that can be explored along several dimensions. The functions `activities_log_projection` and `resources_log_projection` project the cases in the log according to the activities and resources dimensions, respectively. Each projection is a list (the log) of lists (the single cases) containing the name of the activity/resource."
   ]
  },
  {
   "cell_type": "code",
   "execution_count": null,
   "id": "77896ad0",
   "metadata": {},
   "outputs": [],
   "source": [
    "# Activity projection\n",
    "for idx, trace in enumerate(d4py.activities_log_projection()):\n",
    "    print(f\"{idx}- {trace}\")\n",
    "print(\"--------------------------------------\")\n",
    "\n",
    "# Resource projection\n",
    "for idx, trace in enumerate(d4py.resources_log_projection()):\n",
    "    print(f\"{idx}- {trace}\")\n",
    "print(\"--------------------------------------\")"
   ]
  },
  {
   "cell_type": "markdown",
   "id": "716dd27c",
   "metadata": {},
   "source": [
    "A useful utily for logs is the one hot encoding according to the `act` or `payload` dimensions. These encodings can be useful for statistical analysis or Machine Learning tasks. The returned data type is a Pandas Dataframe."
   ]
  },
  {
   "cell_type": "code",
   "execution_count": null,
   "id": "f8828065",
   "metadata": {},
   "outputs": [],
   "source": [
    "# One hot encoding for activities\n",
    "d4py.log_encoding(dimension='act')"
   ]
  },
  {
   "cell_type": "code",
   "execution_count": null,
   "id": "1c1bda14",
   "metadata": {},
   "outputs": [],
   "source": [
    "# One hot encoding for payload\n",
    "d4py.log_encoding(dimension='payload')"
   ]
  },
  {
   "cell_type": "markdown",
   "id": "b617ba75",
   "metadata": {},
   "source": [
    "## Frequent Itemsets\n",
    "\n",
    "Declare4Py offers support for computing the frequent itemsets of activities/resources in the log. The function `compute_frequent_itemsets` takes as input the `min_support` of the itemsets, the `algorithm` to perform the computation (available `fpgrowth` and `apriori`) and `len_itemset` indicating the maximum length of the itemsets, the default is `None`."
   ]
  },
  {
   "cell_type": "code",
   "execution_count": null,
   "id": "76f780d2",
   "metadata": {},
   "outputs": [],
   "source": [
    "d4py.compute_frequent_itemsets(min_support=0.8, algorithm='fpgrowth', len_itemset=3)\n",
    "d4py.frequent_item_sets"
   ]
  },
  {
   "cell_type": "code",
   "execution_count": null,
   "id": "d98fee9f",
   "metadata": {},
   "outputs": [],
   "source": []
  }
 ],
 "metadata": {
  "kernelspec": {
   "display_name": "Python 3 (ipykernel)",
   "language": "python",
   "name": "python3"
  },
  "language_info": {
   "codemirror_mode": {
    "name": "ipython",
    "version": 3
   },
   "file_extension": ".py",
   "mimetype": "text/x-python",
   "name": "python",
   "nbconvert_exporter": "python",
   "pygments_lexer": "ipython3",
   "version": "3.9.7"
  }
 },
 "nbformat": 4,
 "nbformat_minor": 5
}
