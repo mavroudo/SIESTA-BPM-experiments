{
 "cells": [
  {
   "cell_type": "markdown",
   "id": "5279e90c",
   "metadata": {},
   "source": [
    "# Conformance Checking in Declare4Py\n",
    "\n",
    "This tutorial explains how to perform the checking of a DECLARE model and how to browse the results.\n",
    "\n",
    "After importing the Declare4Py package and specified the paths of the log and of the DECLARE model, a `Declare4Py` object has to be instantiated."
   ]
  },
  {
   "cell_type": "code",
   "execution_count": null,
   "id": "e10f3035",
   "metadata": {},
   "outputs": [],
   "source": [
    "import os\n",
    "from declare4py.declare4py import Declare4Py\n",
    "\n",
    "\n",
    "log_path = os.path.join(\"..\", \"tests\", \"Sepsis Cases.xes.gz\")\n",
    "model_path = os.path.join(\"..\", \"tests\", \"declare_models\", \"data_model.decl\")\n",
    "\n",
    "d4py = Declare4Py()"
   ]
  },
  {
   "cell_type": "markdown",
   "id": "b22cdbd3",
   "metadata": {},
   "source": [
    "The DECLARE constraints supported by Declare4Py can be retrieved with the `get_supported_templates()` function:"
   ]
  },
  {
   "cell_type": "code",
   "execution_count": null,
   "id": "adb90596",
   "metadata": {},
   "outputs": [],
   "source": [
    "print(d4py.get_supported_templates())"
   ]
  },
  {
   "cell_type": "markdown",
   "id": "6f2f5b6f",
   "metadata": {},
   "source": [
    "Notice that for the templates `Existence`, `Absence` and `Exactly` an additional parameter is necessary for the cardinality. This has to be encoded in the DECLARE `.decl` model with a numeric suffix, for example `Exactly2` or `Existence23`.\n",
    "\n",
    "The next step is the parsing of the log and of the DECLARE model."
   ]
  },
  {
   "cell_type": "code",
   "execution_count": null,
   "id": "cefcfbac",
   "metadata": {},
   "outputs": [],
   "source": [
    "d4py.parse_xes_log(log_path)\n",
    "d4py.parse_decl_model(model_path)"
   ]
  },
  {
   "cell_type": "markdown",
   "id": "32fea405",
   "metadata": {},
   "source": [
    "The DECLARE model can be inspected by getting all the activity names or the constraints. This information is returned as a list of strings."
   ]
  },
  {
   "cell_type": "code",
   "execution_count": null,
   "id": "ea33c883",
   "metadata": {},
   "outputs": [],
   "source": [
    "model_activities = d4py.get_model_activities()\n",
    "model_constraints = d4py.get_model_constraints()\n",
    "for idx, act in enumerate(model_activities):\n",
    "    print(idx, act)\n",
    "print(\"-----------------\")\n",
    "for idx, constr in enumerate(model_constraints):\n",
    "    print(idx, constr)"
   ]
  },
  {
   "cell_type": "markdown",
   "id": "36346025",
   "metadata": {},
   "source": [
    "Once the log and the DECLARE model are loaded, the `conformance_checking()` function will perform the model checking. The input boolean parameter `consider_vacuity=true` means that vacuously satisfied traces are considered as satisfied, violated otherwise. This function returns a Python dictionary containing the results indexed by trace in the log. Each key is a tuple containing the trace id and its name (that can be retrieved with `get_trace_keys()`). The value is a Python dictionary with keys the names of the constraints (that can be retrieved with `model_constraints()`) and values a `CheckerResult` object containing the number of pendings, activations, violations, fulfilments and the truth value of the trace for that constraint.\n",
    "\n",
    "```\n",
    "model_check_res = {trace_1: {constr_1: CheckerResult object, constr_2: CheckerResult object, ...},\n",
    "                   trace_2: {constr_1: CheckerResult object, ... },\n",
    "                    ...\n",
    "                  }\n",
    "```\n",
    "The `CheckerResult` objects can be accessed by the attributes `num_pendings`, `num_activations`, `num_fulfillments`, `num_violations` and `state`."
   ]
  },
  {
   "cell_type": "code",
   "execution_count": null,
   "id": "df54e9a1",
   "metadata": {},
   "outputs": [],
   "source": [
    "model_check_res = d4py.conformance_checking(consider_vacuity=False)"
   ]
  },
  {
   "cell_type": "markdown",
   "id": "296bf69e",
   "metadata": {},
   "source": [
    "Let's inspect the results for the trace `(1, 'B')` and the constraint\n",
    "`Chain Response[LacticAcid, Leucocytes] |A.LacticAcid <= 0.8 |T.Leucocytes >= 13.8 |0,2778,m`"
   ]
  },
  {
   "cell_type": "code",
   "execution_count": null,
   "id": "98078e9e",
   "metadata": {},
   "outputs": [],
   "source": [
    "constr_id = 12\n",
    "trace_id = (1, 'B')\n",
    "print(f\"Constraint to check: {model_constraints[constr_id]}\")\n",
    "print(f\"Number of pendings: {model_check_res[trace_id][model_constraints[constr_id]].num_pendings}\")\n",
    "print(f\"Number of activations: {model_check_res[trace_id][model_constraints[constr_id]].num_activations}\")\n",
    "print(f\"Number of fulfilments: {model_check_res[trace_id][model_constraints[constr_id]].num_fulfillments}\")\n",
    "print(f\"Number of violation: {model_check_res[trace_id][model_constraints[constr_id]].num_violations}\")\n",
    "print(f\"Truth value: {model_check_res[trace_id][model_constraints[constr_id]].state}\")"
   ]
  },
  {
   "cell_type": "markdown",
   "id": "246f4ade",
   "metadata": {},
   "source": [
    "The checker results can be printed with the `print_conformance_results` function."
   ]
  },
  {
   "cell_type": "code",
   "execution_count": null,
   "id": "af7383bd",
   "metadata": {},
   "outputs": [],
   "source": []
  }
 ],
 "metadata": {
  "kernelspec": {
   "display_name": "Python 3 (ipykernel)",
   "language": "python",
   "name": "python3"
  },
  "language_info": {
   "codemirror_mode": {
    "name": "ipython",
    "version": 3
   },
   "file_extension": ".py",
   "mimetype": "text/x-python",
   "name": "python",
   "nbconvert_exporter": "python",
   "pygments_lexer": "ipython3",
   "version": "3.9.7"
  }
 },
 "nbformat": 4,
 "nbformat_minor": 5
}
