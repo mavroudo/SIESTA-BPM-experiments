{
 "cells": [
  {
   "cell_type": "markdown",
   "id": "dac6605a",
   "metadata": {},
   "source": [
    "# Query Checking in Declare4Py\n",
    "\n",
    "This tutorial explains how to perform the query checking of a DECLARE constraint in a log and how to browse the results.\n",
    "\n",
    "After importing the Declare4Py package, a `Declare4Py` object has to be instantiated to load the log."
   ]
  },
  {
   "cell_type": "code",
   "execution_count": null,
   "id": "427abbac",
   "metadata": {},
   "outputs": [],
   "source": [
    "import os\n",
    "from declare4py.declare4py import Declare4Py\n",
    "\n",
    "\n",
    "log_path = os.path.join(\"..\", \"tests\", \"Sepsis Cases.xes.gz\")\n",
    "\n",
    "d4py = Declare4Py()\n",
    "d4py.parse_xes_log(log_path)"
   ]
  },
  {
   "cell_type": "markdown",
   "id": "fbcf695b",
   "metadata": {},
   "source": [
    "The query checking is performed with the `query_checking` function. This takes as input the boolean parameter `consider_vacuity=true` that means that vacuously satisfied traces are considered as satisfied, violated otherwise. The parameter `template_str` sets the DECLARE constraint. Then the string parameters `activation` and `target` sets the variables to ask. If these parameters are not set then they are considered as variables to which compute the assignments. The input string parameters `act_cond`, `trg_cond`, `time_cond` are used to set the activation, target and time conditions (if needed), respectively. The float `min_support` parameter sets the support to be satisfied in the log by the variable assignments.\n",
    "\n",
    "Two related query checking tasks can be performed by setting the `return_first` boolean parameter:\n",
    "1. `return_first=False` returns all the variables assignments that satisfy the support in the log.\n",
    "2. `return_first=True` returns only one variables assignment (the first) that satisfy the support in the log. This saves computational time when one is only interested in the existence of a variable assignment with a given support.\n",
    "\n",
    "The returned data structure is a Python dictionary with keys the Declare constraints satisfying the assignments. The values are a structured representations of these constraints. Let's compute the assignments for the target by setting `template_str='Chain Response'`, `activation='IV Antibiotics'`, `act_cond='A.org:group is A'` and `min_support=0.2`:"
   ]
  },
  {
   "cell_type": "code",
   "execution_count": null,
   "id": "ab182fa1",
   "metadata": {},
   "outputs": [],
   "source": [
    "res_1 = d4py.query_checking(consider_vacuity=True, template_str='Chain Response', activation='IV Antibiotics', act_cond='A.org:group is A', min_support=0.2, return_first=False)\n",
    "\n",
    "# exploring the results\n",
    "for k, v in res_1.items():\n",
    "    print(f\"{k} -> {v}\")"
   ]
  },
  {
   "cell_type": "markdown",
   "id": "67577003",
   "metadata": {},
   "source": [
    "The query checking results can be filtered with the `filter_query_checking()` function whose parameter `queries` takes as input a list of variables to ask. In the above example, we set the template and activation and ask for the targets. We now filter the results by returning only the targets:"
   ]
  },
  {
   "cell_type": "code",
   "execution_count": null,
   "id": "8cdc0eed",
   "metadata": {},
   "outputs": [],
   "source": [
    "for tg in d4py.filter_query_checking(queries=['target']):\n",
    "    print(tg)"
   ]
  },
  {
   "cell_type": "markdown",
   "id": "efffc3c5",
   "metadata": {},
   "source": [
    "In the following example we compute the assignments both for the activation and the target by setting `template_str='Response'` and `min_support=0.8`:"
   ]
  },
  {
   "cell_type": "code",
   "execution_count": null,
   "id": "7bd7cd74",
   "metadata": {},
   "outputs": [],
   "source": [
    "res_2 = d4py.query_checking(consider_vacuity=False, template_str='Response', min_support=0.8, return_first=False)\n",
    "\n",
    "# exploring the results\n",
    "for k, v in res_2.items():\n",
    "    print(f\"{k} -> {v}\")"
   ]
  },
  {
   "cell_type": "markdown",
   "id": "2df4afb4",
   "metadata": {},
   "source": [
    "In this example, we set the template and ask for the activations and targets. We now filter the results by returning both activations and targets:"
   ]
  },
  {
   "cell_type": "code",
   "execution_count": null,
   "id": "d0b5cb83",
   "metadata": {},
   "outputs": [],
   "source": [
    "for tg in d4py.filter_query_checking(queries=['activation', 'target']):\n",
    "    print(tg)"
   ]
  },
  {
   "cell_type": "code",
   "execution_count": null,
   "id": "cba37244",
   "metadata": {},
   "outputs": [],
   "source": [
    "res_3 = d4py.query_checking(consider_vacuity=False, activation='ER Registration', target='CRP', min_support=0.2, return_first=False)"
   ]
  },
  {
   "cell_type": "code",
   "execution_count": null,
   "id": "01287b46",
   "metadata": {},
   "outputs": [],
   "source": [
    "for k, v in res_3.items():\n",
    "    print(f\"{k} -> {v}\")"
   ]
  },
  {
   "cell_type": "code",
   "execution_count": null,
   "id": "ee8b052d",
   "metadata": {},
   "outputs": [],
   "source": []
  }
 ],
 "metadata": {
  "kernelspec": {
   "display_name": "Python 3 (ipykernel)",
   "language": "python",
   "name": "python3"
  },
  "language_info": {
   "codemirror_mode": {
    "name": "ipython",
    "version": 3
   },
   "file_extension": ".py",
   "mimetype": "text/x-python",
   "name": "python",
   "nbconvert_exporter": "python",
   "pygments_lexer": "ipython3",
   "version": "3.9.7"
  }
 },
 "nbformat": 4,
 "nbformat_minor": 5
}
