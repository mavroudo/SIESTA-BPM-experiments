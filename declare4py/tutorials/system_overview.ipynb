{
 "cells": [
  {
   "cell_type": "markdown",
   "id": "c430dacc",
   "metadata": {},
   "source": [
    "# Declare4Py Overview"
   ]
  },
  {
   "cell_type": "markdown",
   "id": "1c04f3ab",
   "metadata": {},
   "source": [
    "Declare4Py is composed of several Python modules/packages shown in the figure below along with their dependencies.\n",
    "\n",
    "![SNOWFALL](Dependency_diagram.png)"
   ]
  },
  {
   "cell_type": "markdown",
   "id": "b009759f",
   "metadata": {},
   "source": [
    "We provide a brief description of each module/package:\n",
    "    \n",
    "- **MLxtend** is Machine Learning library with extended functionalities with respect to the standard SKlearn and Scipy libraries. Declare4Py uses the Apriori and FP-growth algorithms for computing frequent itemsets and other functionalities for encoding the logs.\n",
    "- **PM4Py** is a standard and well-known library for process mining. Declare4Py uses some funcionalities for log importing.\n",
    "- **Declare4Py** is the access point for the users to the library. This module contains the main methods for log analysis and for the main process mining tasks (conformance checking, model discovery and query checking) explained in the other tutorials.\n",
    "- **API functions** contain the functions that actually perform the conformance checking, discovery and query checking tasks..\n",
    "- **Parsers** perform the parsing of the `.decl` files containing the Declare models.\n",
    "- **Constraints Checkers** is the core package of Declare4Py as it provides methods for computing the checking of the families of Declare constraints given a trace.\n",
    "- **Models** contain modules that define the modelling of some entities of Declare4Py. In particular, **Declare Model** defines attributes and methods for a Declare model, whereas **Checker Result** defines attributes and methods for the results of the constraint checking.\n",
    "- **Enums** contain useful constants for the Declare templates and for the truth state of a trace according to a Declare constraint."
   ]
  },
  {
   "cell_type": "code",
   "execution_count": null,
   "id": "26eb9cf0",
   "metadata": {},
   "outputs": [],
   "source": []
  }
 ],
 "metadata": {
  "kernelspec": {
   "display_name": "Python 3 (ipykernel)",
   "language": "python",
   "name": "python3"
  },
  "language_info": {
   "codemirror_mode": {
    "name": "ipython",
    "version": 3
   },
   "file_extension": ".py",
   "mimetype": "text/x-python",
   "name": "python",
   "nbconvert_exporter": "python",
   "pygments_lexer": "ipython3",
   "version": "3.9.7"
  }
 },
 "nbformat": 4,
 "nbformat_minor": 5
}
